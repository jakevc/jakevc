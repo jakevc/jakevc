{
 "cells": [
  {
   "cell_type": "markdown",
   "metadata": {},
   "source": [
    "The UCSC [Table Browser](https://genome.ucsc.edu/cgi-bin/hgTables) allows a nice interface for downloading the pairwise alignments between two genomes in table format. While UCSC offers this excellent feature, there are fewer pairwise alignments available than those in Ensembl. However, trying to get a useful format of the pairwise alignments from Ensembl is more difficult. You can directly download the multiple alignment files in MAF format, but I want something like the UCSC table browser. It turns out Ensembls public mysql server can be used to get any of the data hosted on ensembl databases. Here I show how to grab the synteny blocks between human and mouse using [pymysql](https://github.com/PyMySQL/PyMySQL) and read the resulting table into a pandas dataframe. The Ensemble compara database has a good MySql [schema documentation](https://ensembl-compara.readthedocs.io/en/master/schema.html), this is helpful when figuring out how to get around the relational mess."
   ]
  },
  {
   "cell_type": "markdown",
   "metadata": {},
   "source": [
    "First download pymysql with a quick `pip install pymysql`, and make sure you have `pandas` in your current environment."
   ]
  },
  {
   "cell_type": "code",
   "execution_count": 1,
   "metadata": {},
   "outputs": [],
   "source": [
    "import pandas as pd\n",
    "import pymysql\n",
    "%matplotlib inline"
   ]
  },
  {
   "cell_type": "code",
   "execution_count": 19,
   "metadata": {},
   "outputs": [],
   "source": [
    "# connect to the ensembl MySql db\n",
    "connection = pymysql.connect(host='ensembldb.ensembl.org',\n",
    "                             user='anonymous',\n",
    "                             port=5306,\n",
    "                             password=\"\",\n",
    "                             charset='utf8mb4',\n",
    "                             cursorclass=pymysql.cursors.DictCursor)\n"
   ]
  },
  {
   "cell_type": "markdown",
   "metadata": {},
   "source": [
    "Conveniently, pandas has a function `read_sql` allowing you to perform query `q` on connection `conn`, and print the results to a pandas dataframe. This is super useful if you plan to further manipulate the data you gather, and maybe do some quick exploratory data analysis."
   ]
  },
  {
   "cell_type": "code",
   "execution_count": 20,
   "metadata": {},
   "outputs": [
    {
     "data": {
      "text/html": [
       "<div>\n",
       "<style scoped>\n",
       "    .dataframe tbody tr th:only-of-type {\n",
       "        vertical-align: middle;\n",
       "    }\n",
       "\n",
       "    .dataframe tbody tr th {\n",
       "        vertical-align: top;\n",
       "    }\n",
       "\n",
       "    .dataframe thead th {\n",
       "        text-align: right;\n",
       "    }\n",
       "</style>\n",
       "<table border=\"1\" class=\"dataframe\">\n",
       "  <thead>\n",
       "    <tr style=\"text-align: right;\">\n",
       "      <th></th>\n",
       "      <th>Database</th>\n",
       "    </tr>\n",
       "  </thead>\n",
       "  <tbody>\n",
       "    <tr>\n",
       "      <th>0</th>\n",
       "      <td>information_schema</td>\n",
       "    </tr>\n",
       "    <tr>\n",
       "      <th>1</th>\n",
       "      <td>PERCONA_SCHEMA</td>\n",
       "    </tr>\n",
       "    <tr>\n",
       "      <th>2</th>\n",
       "      <td>acanthochromis_polyacanthus_core_94_1</td>\n",
       "    </tr>\n",
       "    <tr>\n",
       "      <th>3</th>\n",
       "      <td>acanthochromis_polyacanthus_core_95_1</td>\n",
       "    </tr>\n",
       "    <tr>\n",
       "      <th>4</th>\n",
       "      <td>acanthochromis_polyacanthus_core_96_1</td>\n",
       "    </tr>\n",
       "  </tbody>\n",
       "</table>\n",
       "</div>"
      ],
      "text/plain": [
       "                                Database\n",
       "0                     information_schema\n",
       "1                         PERCONA_SCHEMA\n",
       "2  acanthochromis_polyacanthus_core_94_1\n",
       "3  acanthochromis_polyacanthus_core_95_1\n",
       "4  acanthochromis_polyacanthus_core_96_1"
      ]
     },
     "execution_count": 20,
     "metadata": {},
     "output_type": "execute_result"
    }
   ],
   "source": [
    "databases = pd.read_sql(\"show databases;\", connection)\n",
    "databases.head()"
   ]
  },
  {
   "cell_type": "markdown",
   "metadata": {},
   "source": [
    "There are quite a few databases we have access to, but I'm interested in the one that shows syntenic regions between to species, this will be in the compara database. We can search for that below."
   ]
  },
  {
   "cell_type": "code",
   "execution_count": 12,
   "metadata": {},
   "outputs": [
    {
     "data": {
      "text/html": [
       "<div>\n",
       "<style scoped>\n",
       "    .dataframe tbody tr th:only-of-type {\n",
       "        vertical-align: middle;\n",
       "    }\n",
       "\n",
       "    .dataframe tbody tr th {\n",
       "        vertical-align: top;\n",
       "    }\n",
       "\n",
       "    .dataframe thead th {\n",
       "        text-align: right;\n",
       "    }\n",
       "</style>\n",
       "<table border=\"1\" class=\"dataframe\">\n",
       "  <thead>\n",
       "    <tr style=\"text-align: right;\">\n",
       "      <th></th>\n",
       "      <th>Database</th>\n",
       "    </tr>\n",
       "  </thead>\n",
       "  <tbody>\n",
       "    <tr>\n",
       "      <th>2459</th>\n",
       "      <td>ensembl_compara_92</td>\n",
       "    </tr>\n",
       "    <tr>\n",
       "      <th>2460</th>\n",
       "      <td>ensembl_compara_93</td>\n",
       "    </tr>\n",
       "    <tr>\n",
       "      <th>2461</th>\n",
       "      <td>ensembl_compara_94</td>\n",
       "    </tr>\n",
       "    <tr>\n",
       "      <th>2462</th>\n",
       "      <td>ensembl_compara_95</td>\n",
       "    </tr>\n",
       "    <tr>\n",
       "      <th>2463</th>\n",
       "      <td>ensembl_compara_96</td>\n",
       "    </tr>\n",
       "  </tbody>\n",
       "</table>\n",
       "</div>"
      ],
      "text/plain": [
       "                Database\n",
       "2459  ensembl_compara_92\n",
       "2460  ensembl_compara_93\n",
       "2461  ensembl_compara_94\n",
       "2462  ensembl_compara_95\n",
       "2463  ensembl_compara_96"
      ]
     },
     "execution_count": 12,
     "metadata": {},
     "output_type": "execute_result"
    }
   ],
   "source": [
    "databases[databases.Database.str.match(\".+compara.+\")].tail()"
   ]
  },
  {
   "cell_type": "markdown",
   "metadata": {},
   "source": [
    "Connect to the most recent version, and start building a query. I had to brush up on SQL syntax, and take a look at the examples in the [Compara Schema Docs](https://uswest.ensembl.org/info/docs/api/compara/compara_schema.html#species_set_header)."
   ]
  },
  {
   "cell_type": "code",
   "execution_count": 24,
   "metadata": {},
   "outputs": [],
   "source": [
    "compara_96 = pymysql.connect(host='ensembldb.ensembl.org',\n",
    "                             user='anonymous',\n",
    "                             db=\"ensembl_compara_96\",\n",
    "                             password=\"\",\n",
    "                             charset='utf8mb4',\n",
    "                             cursorclass=pymysql.cursors.DictCursor)"
   ]
  },
  {
   "cell_type": "markdown",
   "metadata": {},
   "source": [
    "It's not pretty, but here's what I ended up with to get a table containing syntenic blocks between human and mouse:"
   ]
  },
  {
   "cell_type": "code",
   "execution_count": 25,
   "metadata": {},
   "outputs": [
    {
     "data": {
      "text/html": [
       "<div>\n",
       "<style scoped>\n",
       "    .dataframe tbody tr th:only-of-type {\n",
       "        vertical-align: middle;\n",
       "    }\n",
       "\n",
       "    .dataframe tbody tr th {\n",
       "        vertical-align: top;\n",
       "    }\n",
       "\n",
       "    .dataframe thead th {\n",
       "        text-align: right;\n",
       "    }\n",
       "</style>\n",
       "<table border=\"1\" class=\"dataframe\">\n",
       "  <thead>\n",
       "    <tr style=\"text-align: right;\">\n",
       "      <th></th>\n",
       "      <th>sname</th>\n",
       "      <th>schr</th>\n",
       "      <th>sstart</th>\n",
       "      <th>send</th>\n",
       "      <th>sstrand</th>\n",
       "      <th>qname</th>\n",
       "      <th>qchr</th>\n",
       "      <th>qstart</th>\n",
       "      <th>qend</th>\n",
       "      <th>qstrand</th>\n",
       "      <th>synteny_region_id</th>\n",
       "      <th>synteny_region_id</th>\n",
       "    </tr>\n",
       "  </thead>\n",
       "  <tbody>\n",
       "    <tr>\n",
       "      <th>0</th>\n",
       "      <td>mus_musculus</td>\n",
       "      <td>1</td>\n",
       "      <td>3007339</td>\n",
       "      <td>9473382</td>\n",
       "      <td>-1</td>\n",
       "      <td>homo_sapiens</td>\n",
       "      <td>8</td>\n",
       "      <td>49798969</td>\n",
       "      <td>55650088</td>\n",
       "      <td>1</td>\n",
       "      <td>51768</td>\n",
       "      <td>51768</td>\n",
       "    </tr>\n",
       "    <tr>\n",
       "      <th>1</th>\n",
       "      <td>mus_musculus</td>\n",
       "      <td>1</td>\n",
       "      <td>43917041</td>\n",
       "      <td>44220159</td>\n",
       "      <td>1</td>\n",
       "      <td>homo_sapiens</td>\n",
       "      <td>13</td>\n",
       "      <td>102585255</td>\n",
       "      <td>102881564</td>\n",
       "      <td>1</td>\n",
       "      <td>51528</td>\n",
       "      <td>51528</td>\n",
       "    </tr>\n",
       "    <tr>\n",
       "      <th>2</th>\n",
       "      <td>mus_musculus</td>\n",
       "      <td>1</td>\n",
       "      <td>134780249</td>\n",
       "      <td>134938733</td>\n",
       "      <td>1</td>\n",
       "      <td>homo_sapiens</td>\n",
       "      <td>Y</td>\n",
       "      <td>26212371</td>\n",
       "      <td>26397883</td>\n",
       "      <td>1</td>\n",
       "      <td>51816</td>\n",
       "      <td>51816</td>\n",
       "    </tr>\n",
       "    <tr>\n",
       "      <th>3</th>\n",
       "      <td>mus_musculus</td>\n",
       "      <td>1</td>\n",
       "      <td>44337306</td>\n",
       "      <td>46007489</td>\n",
       "      <td>1</td>\n",
       "      <td>homo_sapiens</td>\n",
       "      <td>2</td>\n",
       "      <td>188142550</td>\n",
       "      <td>189639740</td>\n",
       "      <td>1</td>\n",
       "      <td>51635</td>\n",
       "      <td>51635</td>\n",
       "    </tr>\n",
       "    <tr>\n",
       "      <th>4</th>\n",
       "      <td>mus_musculus</td>\n",
       "      <td>1</td>\n",
       "      <td>9522893</td>\n",
       "      <td>17933852</td>\n",
       "      <td>1</td>\n",
       "      <td>homo_sapiens</td>\n",
       "      <td>8</td>\n",
       "      <td>66403591</td>\n",
       "      <td>75214401</td>\n",
       "      <td>1</td>\n",
       "      <td>51772</td>\n",
       "      <td>51772</td>\n",
       "    </tr>\n",
       "  </tbody>\n",
       "</table>\n",
       "</div>"
      ],
      "text/plain": [
       "          sname schr     sstart       send  sstrand         qname qchr  \\\n",
       "0  mus_musculus    1    3007339    9473382       -1  homo_sapiens    8   \n",
       "1  mus_musculus    1   43917041   44220159        1  homo_sapiens   13   \n",
       "2  mus_musculus    1  134780249  134938733        1  homo_sapiens    Y   \n",
       "3  mus_musculus    1   44337306   46007489        1  homo_sapiens    2   \n",
       "4  mus_musculus    1    9522893   17933852        1  homo_sapiens    8   \n",
       "\n",
       "      qstart       qend  qstrand  synteny_region_id  synteny_region_id  \n",
       "0   49798969   55650088        1              51768              51768  \n",
       "1  102585255  102881564        1              51528              51528  \n",
       "2   26212371   26397883        1              51816              51816  \n",
       "3  188142550  189639740        1              51635              51635  \n",
       "4   66403591   75214401        1              51772              51772  "
      ]
     },
     "execution_count": 25,
     "metadata": {},
     "output_type": "execute_result"
    }
   ],
   "source": [
    "qAll = '\\\n",
    "SELECT t1.species_name as sname, t1.name as schr, t1.dnafrag_start as sstart, t1.dnafrag_end as send, t1.dnafrag_strand as sstrand, \\\n",
    "            t2.species_name as qname, t2.name as qchr, t2.dnafrag_start as qstart, t2.dnafrag_end as qend, t2.dnafrag_strand as qstrand, t1.synteny_region_id, t2.synteny_region_id \\\n",
    "     FROM (SELECT genome_db.name AS species_name, \\\n",
    "                 dnafrag.name, dnafrag_start, \\\n",
    "                 dnafrag_end, dnafrag_strand, \\\n",
    "                 synteny_region_id \\\n",
    "      FROM dnafrag_region \\\n",
    "      JOIN dnafrag USING (dnafrag_id) \\\n",
    "      JOIN genome_db USING (genome_db_id) \\\n",
    "      WHERE genome_db.name IN (\"mus_musculus\") \\\n",
    "      ORDER BY synteny_region_id) as t1, \\\n",
    "     (SELECT genome_db.name AS species_name, \\\n",
    "                dnafrag.name, dnafrag_start, \\\n",
    "                dnafrag_end, dnafrag_strand, \\\n",
    "                synteny_region_id \\\n",
    "      FROM dnafrag_region \\\n",
    "      JOIN dnafrag USING (dnafrag_id) \\\n",
    "      JOIN genome_db USING (genome_db_id) \\\n",
    "      WHERE genome_db.name IN (\"homo_sapiens\") \\\n",
    "      ORDER BY synteny_region_id) as t2 \\\n",
    "WHERE t1.synteny_region_id=t2.synteny_region_id \\\n",
    "ORDER BY schr;'\n",
    "\n",
    "mouse_human_syn = pd.read_sql(qAll, compara_96)\n",
    "mouse_human_syn.head()"
   ]
  },
  {
   "cell_type": "code",
   "execution_count": 26,
   "metadata": {},
   "outputs": [
    {
     "data": {
      "text/plain": [
       "363"
      ]
     },
     "execution_count": 26,
     "metadata": {},
     "output_type": "execute_result"
    }
   ],
   "source": [
    "mouse_human_syn.shape[0]"
   ]
  },
  {
   "cell_type": "markdown",
   "metadata": {},
   "source": [
    "Cool, Ensembl has 363 syntenic blocks between human and mouse. These are derived from the full `lastz` alignment net, which chains the most contiguous blocks to filter out some noise. Because there are more lastz alignments, than synteny's in Ensembl, you can apply a similar technique as I did above using the [Genomic Alignments](https://ensembl-compara.readthedocs.io/en/master/schema.html#genomic-alignments) tables. There will be many more alignment regions, much of the noise can be filtered out using the `score` attribute which is the lastz alignment score, a higher score resulting in fewer, better quality alignments. "
   ]
  },
  {
   "cell_type": "markdown",
   "metadata": {},
   "source": [
    "I am excited about this way to programmatically access ensembl data through Python and jupyter notebooks, as it means I don't have to use the Perl API (which is a huge set of perl modules), and I can perform analysis right in the same notebook the data was fetched from. It feels more transparent for doing this type of exploratory data analysis, and really allows some flexibility that's not allowed in the UI, or the Rest API. I hope someone else finds this useful. I like this method because it requires relatively very few lines of code and only two dependencies. "
   ]
  }
 ],
 "metadata": {
  "kernelspec": {
   "display_name": "fastai",
   "language": "python",
   "name": "fastai"
  },
  "language_info": {
   "codemirror_mode": {
    "name": "ipython",
    "version": 3
   },
   "file_extension": ".py",
   "mimetype": "text/x-python",
   "name": "python",
   "nbconvert_exporter": "python",
   "pygments_lexer": "ipython3",
   "version": "3.7.1"
  }
 },
 "nbformat": 4,
 "nbformat_minor": 2
}
